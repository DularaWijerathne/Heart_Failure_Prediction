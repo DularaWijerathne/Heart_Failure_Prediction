{
 "cells": [
  {
   "cell_type": "code",
   "execution_count": 50,
   "id": "697b2ed8-aa47-4819-b646-cacc2f80d829",
   "metadata": {},
   "outputs": [],
   "source": [
    "import numpy as np\n",
    "import pandas as pd\n",
    "import joblib\n",
    "import json"
   ]
  },
  {
   "cell_type": "code",
   "execution_count": 51,
   "id": "67636d6c-5912-4269-931d-9c5bdbbf9d59",
   "metadata": {},
   "outputs": [],
   "source": [
    "# import model & features\n",
    "\n",
    "model = joblib.load('model')\n",
    "\n",
    "with open('features.json', 'r') as f:\n",
    "    features = json.load(f)\n",
    "    "
   ]
  },
  {
   "cell_type": "code",
   "execution_count": 52,
   "id": "46c0958f-19ae-478f-87e1-c61b5be82866",
   "metadata": {},
   "outputs": [
    {
     "name": "stdout",
     "output_type": "stream",
     "text": [
      "['Age', 'Sex', 'ChestPainType', 'RestingBP', 'Cholesterol', 'FastingBS', 'RestingECG', 'MaxHR', 'ExerciseAngina', 'Oldpeak', 'ST_Slope']\n"
     ]
    }
   ],
   "source": [
    "print(features['feature_names'])"
   ]
  },
  {
   "cell_type": "code",
   "execution_count": 72,
   "id": "271978e1-23c8-4bf2-bcb8-69151f3db22a",
   "metadata": {},
   "outputs": [],
   "source": [
    "def predict_heart_disease(age, sex, chestpaintype, restingbp, cholesterol, fastingbs, restingecg, maxhr, exerciseangina, oldpeak, st_slope):\n",
    "    input = pd.DataFrame([[age, sex, chestpaintype, restingbp, cholesterol, fastingbs, restingecg, maxhr, exerciseangina, oldpeak, st_slope]],\n",
    "                         columns = ['Age', 'Sex', 'ChestPainType', 'RestingBP', 'Cholesterol', 'FastingBS', 'RestingECG', 'MaxHR', 'ExerciseAngina', 'Oldpeak', 'ST_Slope'])\n",
    "    result = model.predict(input)\n",
    "    print('Critical') if result[0]==1 else print('Normal')\n",
    "    "
   ]
  },
  {
   "cell_type": "code",
   "execution_count": 73,
   "id": "74cd1aaf-0515-456c-a842-aa19dc0d9410",
   "metadata": {},
   "outputs": [
    {
     "name": "stdout",
     "output_type": "stream",
     "text": [
      "Normal\n"
     ]
    }
   ],
   "source": [
    "predict_heart_disease(63,'M','NAP',130,0,'Prediabetes','ST',160,'N',3.0,'Flat')"
   ]
  }
 ],
 "metadata": {
  "kernelspec": {
   "display_name": "Python 3 (ipykernel)",
   "language": "python",
   "name": "python3"
  },
  "language_info": {
   "codemirror_mode": {
    "name": "ipython",
    "version": 3
   },
   "file_extension": ".py",
   "mimetype": "text/x-python",
   "name": "python",
   "nbconvert_exporter": "python",
   "pygments_lexer": "ipython3",
   "version": "3.9.18"
  }
 },
 "nbformat": 4,
 "nbformat_minor": 5
}
